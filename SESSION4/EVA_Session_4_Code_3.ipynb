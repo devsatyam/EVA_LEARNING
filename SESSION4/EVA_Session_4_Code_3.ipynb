{
  "nbformat": 4,
  "nbformat_minor": 0,
  "metadata": {
    "colab": {
      "name": "EVA_Session_4_3.ipynb",
      "version": "0.3.2",
      "provenance": [],
      "collapsed_sections": []
    },
    "kernelspec": {
      "name": "python3",
      "display_name": "Python 3"
    },
    "accelerator": "GPU"
  },
  "cells": [
    {
      "cell_type": "markdown",
      "metadata": {
        "id": "vC1KGoWe6Rcw",
        "colab_type": "text"
      },
      "source": [
        "##Third Iteration"
      ]
    },
    {
      "cell_type": "markdown",
      "metadata": {
        "id": "aNyZv-Ec52ot",
        "colab_type": "text"
      },
      "source": [
        "### **Import Libraries and modules**"
      ]
    },
    {
      "cell_type": "code",
      "metadata": {
        "id": "3m3w1Cw49Zkt",
        "colab_type": "code",
        "outputId": "d405342f-ecc2-4963-8040-16ceadb64017",
        "colab": {
          "base_uri": "https://localhost:8080/",
          "height": 34
        }
      },
      "source": [
        "# https://keras.io/\n",
        "!pip install -q keras\n",
        "import keras"
      ],
      "execution_count": 0,
      "outputs": [
        {
          "output_type": "stream",
          "text": [
            "Using TensorFlow backend.\n"
          ],
          "name": "stderr"
        }
      ]
    },
    {
      "cell_type": "code",
      "metadata": {
        "id": "Eso6UHE080D4",
        "colab_type": "code",
        "colab": {}
      },
      "source": [
        "import numpy as np\n",
        "\n",
        "from keras.models import Sequential\n",
        "from keras.layers import Dense, Dropout, Activation, Flatten, Add\n",
        "from keras.layers import Convolution2D, MaxPooling2D\n",
        "from keras.utils import np_utils\n",
        "\n",
        "from keras.datasets import mnist"
      ],
      "execution_count": 0,
      "outputs": []
    },
    {
      "cell_type": "markdown",
      "metadata": {
        "id": "zByEi95J86RD",
        "colab_type": "text"
      },
      "source": [
        "### Load pre-shuffled MNIST data into train and test sets"
      ]
    },
    {
      "cell_type": "code",
      "metadata": {
        "id": "7eRM0QWN83PV",
        "colab_type": "code",
        "outputId": "5648deea-0390-47ff-bbb2-c859054df177",
        "colab": {
          "base_uri": "https://localhost:8080/",
          "height": 51
        }
      },
      "source": [
        "(X_train, y_train), (X_test, y_test) = mnist.load_data()"
      ],
      "execution_count": 0,
      "outputs": [
        {
          "output_type": "stream",
          "text": [
            "Downloading data from https://s3.amazonaws.com/img-datasets/mnist.npz\n",
            "11493376/11490434 [==============================] - 0s 0us/step\n"
          ],
          "name": "stdout"
        }
      ]
    },
    {
      "cell_type": "markdown",
      "metadata": {
        "id": "lqHhymamBXle",
        "colab_type": "text"
      },
      "source": [
        "###Analyzing mnist dataset \n",
        "To proceed further with the convoution, it is always necessary to have a better understanding of how the dataset looks and what could be the prediction dataset."
      ]
    },
    {
      "cell_type": "code",
      "metadata": {
        "id": "4a4Be72j8-ZC",
        "colab_type": "code",
        "outputId": "50dbf488-ade1-41a4-c76a-d0176ec05b75",
        "colab": {
          "base_uri": "https://localhost:8080/",
          "height": 303
        }
      },
      "source": [
        "print (X_train.shape)\n",
        "from matplotlib import pyplot as plt\n",
        "%matplotlib inline\n",
        "plt.imshow(X_train[0])\n",
        "plt.imshow(X_train[15])\n",
        "plt.imshow(X_train[500])\n",
        "plt.imshow(X_train[3000])"
      ],
      "execution_count": 0,
      "outputs": [
        {
          "output_type": "stream",
          "text": [
            "(60000, 28, 28)\n"
          ],
          "name": "stdout"
        },
        {
          "output_type": "execute_result",
          "data": {
            "text/plain": [
              "<matplotlib.image.AxesImage at 0x7f873fb543c8>"
            ]
          },
          "metadata": {
            "tags": []
          },
          "execution_count": 4
        },
        {
          "output_type": "display_data",
          "data": {
            "image/png": "[encoded data removed]",
            "text/plain": [
              "<Figure size 432x288 with 1 Axes>"
            ]
          },
          "metadata": {
            "tags": []
          }
        }
      ]
    },
    {
      "cell_type": "markdown",
      "metadata": {
        "id": "_E8ZL9z9DijO",
        "colab_type": "text"
      },
      "source": [
        "###Data Pre-Processing\n",
        "\n",
        "Now we need to reshape the images as the model expects. The last number 1 signifies that the image is in greyscale."
      ]
    },
    {
      "cell_type": "code",
      "metadata": {
        "id": "dkmprriw9AnZ",
        "colab_type": "code",
        "colab": {}
      },
      "source": [
        "X_train = X_train.reshape(X_train.shape[0], 28, 28,1)\n",
        "X_test = X_test.reshape(X_test.shape[0], 28, 28,1)"
      ],
      "execution_count": 0,
      "outputs": []
    },
    {
      "cell_type": "code",
      "metadata": {
        "id": "X2m4YS4E9CRh",
        "colab_type": "code",
        "colab": {}
      },
      "source": [
        "X_train = X_train.astype('float32')\n",
        "X_test = X_test.astype('float32')\n",
        "X_train /= 255\n",
        "X_test /= 255"
      ],
      "execution_count": 0,
      "outputs": []
    },
    {
      "cell_type": "markdown",
      "metadata": {
        "id": "ny1tpyKVHUJt",
        "colab_type": "text"
      },
      "source": [
        "We also need to analyzing the Class array and 'one-hot-encode' them to so that our model could make more sense out of it. \n",
        "\n",
        "We can see the sample of class array below:"
      ]
    },
    {
      "cell_type": "code",
      "metadata": {
        "id": "0Mn0vAYD9DvB",
        "colab_type": "code",
        "outputId": "3f447a3a-465a-4914-a0de-9f940e4a2f55",
        "colab": {
          "base_uri": "https://localhost:8080/",
          "height": 34
        }
      },
      "source": [
        "y_train[:10]"
      ],
      "execution_count": 0,
      "outputs": [
        {
          "output_type": "execute_result",
          "data": {
            "text/plain": [
              "array([5, 0, 4, 1, 9, 2, 1, 3, 1, 4], dtype=uint8)"
            ]
          },
          "metadata": {
            "tags": []
          },
          "execution_count": 7
        }
      ]
    },
    {
      "cell_type": "code",
      "metadata": {
        "id": "ZG8JiXR39FHC",
        "colab_type": "code",
        "colab": {}
      },
      "source": [
        "# Convert 1-dimensional class arrays to 10-dimensional class matrices\n",
        "Y_train = np_utils.to_categorical(y_train, 10)\n",
        "Y_test = np_utils.to_categorical(y_test, 10)"
      ],
      "execution_count": 0,
      "outputs": []
    },
    {
      "cell_type": "markdown",
      "metadata": {
        "id": "i-vlW_LhH-yA",
        "colab_type": "text"
      },
      "source": [
        "after processing, we can see that the value of 5 is replaced by an array which signifies its value by keeping 1 in the 6th place (array starts by index 0) and rest of the array as 0."
      ]
    },
    {
      "cell_type": "code",
      "metadata": {
        "id": "fYlFRvKS9HMB",
        "colab_type": "code",
        "outputId": "918ff473-8f61-4a7a-8ca8-9453fd5feda1",
        "colab": {
          "base_uri": "https://localhost:8080/",
          "height": 187
        }
      },
      "source": [
        "Y_train[:10]\n"
      ],
      "execution_count": 0,
      "outputs": [
        {
          "output_type": "execute_result",
          "data": {
            "text/plain": [
              "array([[0., 0., 0., 0., 0., 1., 0., 0., 0., 0.],\n",
              "       [1., 0., 0., 0., 0., 0., 0., 0., 0., 0.],\n",
              "       [0., 0., 0., 0., 1., 0., 0., 0., 0., 0.],\n",
              "       [0., 1., 0., 0., 0., 0., 0., 0., 0., 0.],\n",
              "       [0., 0., 0., 0., 0., 0., 0., 0., 0., 1.],\n",
              "       [0., 0., 1., 0., 0., 0., 0., 0., 0., 0.],\n",
              "       [0., 1., 0., 0., 0., 0., 0., 0., 0., 0.],\n",
              "       [0., 0., 0., 1., 0., 0., 0., 0., 0., 0.],\n",
              "       [0., 1., 0., 0., 0., 0., 0., 0., 0., 0.],\n",
              "       [0., 0., 0., 0., 1., 0., 0., 0., 0., 0.]], dtype=float32)"
            ]
          },
          "metadata": {
            "tags": []
          },
          "execution_count": 9
        }
      ]
    },
    {
      "cell_type": "markdown",
      "metadata": {
        "id": "N7iYzvebJDrl",
        "colab_type": "text"
      },
      "source": [
        "###Building the Model\n",
        "\n",
        "\n",
        "###UPDATE from Second Iteration:\n",
        "I have made 2 updates to the Second iteration:\n",
        "- Added Dropouts to all convolution layers to address the overfitting issue.\n",
        "- Reduced number of channels of \"layer 6\" to 10 to reduce the number of parameters."
      ]
    },
    {
      "cell_type": "code",
      "metadata": {
        "id": "osKqT73Q9JJB",
        "colab_type": "code",
        "outputId": "c1d71367-c7a0-432a-c59d-95f6573ee5e4",
        "colab": {
          "base_uri": "https://localhost:8080/",
          "height": 292
        }
      },
      "source": [
        "from keras.layers import Activation, BatchNormalization\n",
        "model = Sequential()\n",
        "\n",
        "#layer 1\n",
        "model.add(Convolution2D(8, 3, 3, activation='relu', input_shape=(28,28,1))) # 26\n",
        "model.add(BatchNormalization())\n",
        "model.add(Dropout(0.1))\n",
        "\n",
        "#layer 2\n",
        "model.add(Convolution2D(16, 3, 3, activation='relu')) \n",
        "model.add(BatchNormalization())\n",
        "model.add(Dropout(0.1))\n",
        "\n",
        "#layer 3\n",
        "model.add(Convolution2D(32, 3, 3, activation='relu')) \n",
        "model.add(BatchNormalization())\n",
        "model.add(Dropout(0.1))\n",
        "\n",
        "model.add(MaxPooling2D(pool_size=(2, 2))) \n",
        "\n",
        "#layer 4\n",
        "model.add(Convolution2D(16, 1, 1, activation='relu')) \n",
        "model.add(BatchNormalization())\n",
        "model.add(Dropout(0.1))\n",
        "\n",
        "#layer 5\n",
        "model.add(Convolution2D(16, 3, 3, activation='relu'))\n",
        "model.add(BatchNormalization())\n",
        "model.add(Dropout(0.1))\n",
        "\n",
        "#layer 6\n",
        "model.add(Convolution2D(10, 3, 3, activation='relu'))\n",
        "model.add(BatchNormalization())\n",
        "model.add(Dropout(0.1))\n",
        "\n",
        "#layer 7\n",
        "model.add(Convolution2D(10, 1, activation='relu'))\n",
        "\n",
        "#layer 8\n",
        "model.add(Convolution2D(10, 7))\n",
        "model.add(Flatten())\n",
        "model.add(Activation('softmax'))"
      ],
      "execution_count": 0,
      "outputs": [
        {
          "output_type": "stream",
          "text": [
            "WARNING:tensorflow:From /usr/local/lib/python3.6/dist-packages/tensorflow/python/framework/op_def_library.py:263: colocate_with (from tensorflow.python.framework.ops) is deprecated and will be removed in a future version.\n",
            "Instructions for updating:\n",
            "Colocations handled automatically by placer.\n"
          ],
          "name": "stdout"
        },
        {
          "output_type": "stream",
          "text": [
            "/usr/local/lib/python3.6/dist-packages/ipykernel_launcher.py:5: UserWarning: Update your `Conv2D` call to the Keras 2 API: `Conv2D(8, (3, 3), activation=\"relu\", input_shape=(28, 28, 1...)`\n",
            "  \"\"\"\n"
          ],
          "name": "stderr"
        },
        {
          "output_type": "stream",
          "text": [
            "WARNING:tensorflow:From /usr/local/lib/python3.6/dist-packages/keras/backend/tensorflow_backend.py:3445: calling dropout (from tensorflow.python.ops.nn_ops) with keep_prob is deprecated and will be removed in a future version.\n",
            "Instructions for updating:\n",
            "Please use `rate` instead of `keep_prob`. Rate should be set to `rate = 1 - keep_prob`.\n"
          ],
          "name": "stdout"
        },
        {
          "output_type": "stream",
          "text": [
            "/usr/local/lib/python3.6/dist-packages/ipykernel_launcher.py:9: UserWarning: Update your `Conv2D` call to the Keras 2 API: `Conv2D(16, (3, 3), activation=\"relu\")`\n",
            "  if __name__ == '__main__':\n",
            "/usr/local/lib/python3.6/dist-packages/ipykernel_launcher.py:13: UserWarning: Update your `Conv2D` call to the Keras 2 API: `Conv2D(32, (3, 3), activation=\"relu\")`\n",
            "  del sys.path[0]\n",
            "/usr/local/lib/python3.6/dist-packages/ipykernel_launcher.py:19: UserWarning: Update your `Conv2D` call to the Keras 2 API: `Conv2D(16, (1, 1), activation=\"relu\")`\n",
            "/usr/local/lib/python3.6/dist-packages/ipykernel_launcher.py:23: UserWarning: Update your `Conv2D` call to the Keras 2 API: `Conv2D(16, (3, 3), activation=\"relu\")`\n",
            "/usr/local/lib/python3.6/dist-packages/ipykernel_launcher.py:27: UserWarning: Update your `Conv2D` call to the Keras 2 API: `Conv2D(10, (3, 3), activation=\"relu\")`\n"
          ],
          "name": "stderr"
        }
      ]
    },
    {
      "cell_type": "code",
      "metadata": {
        "id": "Z7FIvsSjvYKN",
        "colab_type": "code",
        "outputId": "80f8205e-d624-457b-8032-a56749ee6bec",
        "colab": {
          "base_uri": "https://localhost:8080/",
          "height": 918
        }
      },
      "source": [
        "model.summary() "
      ],
      "execution_count": 0,
      "outputs": [
        {
          "output_type": "stream",
          "text": [
            "_________________________________________________________________\n",
            "Layer (type)                 Output Shape              Param #   \n",
            "=================================================================\n",
            "conv2d_1 (Conv2D)            (None, 26, 26, 8)         80        \n",
            "_________________________________________________________________\n",
            "batch_normalization_1 (Batch (None, 26, 26, 8)         32        \n",
            "_________________________________________________________________\n",
            "dropout_1 (Dropout)          (None, 26, 26, 8)         0         \n",
            "_________________________________________________________________\n",
            "conv2d_2 (Conv2D)            (None, 24, 24, 16)        1168      \n",
            "_________________________________________________________________\n",
            "batch_normalization_2 (Batch (None, 24, 24, 16)        64        \n",
            "_________________________________________________________________\n",
            "dropout_2 (Dropout)          (None, 24, 24, 16)        0         \n",
            "_________________________________________________________________\n",
            "conv2d_3 (Conv2D)            (None, 22, 22, 32)        4640      \n",
            "_________________________________________________________________\n",
            "batch_normalization_3 (Batch (None, 22, 22, 32)        128       \n",
            "_________________________________________________________________\n",
            "dropout_3 (Dropout)          (None, 22, 22, 32)        0         \n",
            "_________________________________________________________________\n",
            "max_pooling2d_1 (MaxPooling2 (None, 11, 11, 32)        0         \n",
            "_________________________________________________________________\n",
            "conv2d_4 (Conv2D)            (None, 11, 11, 16)        528       \n",
            "_________________________________________________________________\n",
            "batch_normalization_4 (Batch (None, 11, 11, 16)        64        \n",
            "_________________________________________________________________\n",
            "dropout_4 (Dropout)          (None, 11, 11, 16)        0         \n",
            "_________________________________________________________________\n",
            "conv2d_5 (Conv2D)            (None, 9, 9, 16)          2320      \n",
            "_________________________________________________________________\n",
            "batch_normalization_5 (Batch (None, 9, 9, 16)          64        \n",
            "_________________________________________________________________\n",
            "dropout_5 (Dropout)          (None, 9, 9, 16)          0         \n",
            "_________________________________________________________________\n",
            "conv2d_6 (Conv2D)            (None, 7, 7, 10)          1450      \n",
            "_________________________________________________________________\n",
            "batch_normalization_6 (Batch (None, 7, 7, 10)          40        \n",
            "_________________________________________________________________\n",
            "dropout_6 (Dropout)          (None, 7, 7, 10)          0         \n",
            "_________________________________________________________________\n",
            "conv2d_7 (Conv2D)            (None, 7, 7, 10)          110       \n",
            "_________________________________________________________________\n",
            "conv2d_8 (Conv2D)            (None, 1, 1, 10)          4910      \n",
            "_________________________________________________________________\n",
            "flatten_1 (Flatten)          (None, 10)                0         \n",
            "_________________________________________________________________\n",
            "activation_1 (Activation)    (None, 10)                0         \n",
            "=================================================================\n",
            "Total params: 15,598\n",
            "Trainable params: 15,402\n",
            "Non-trainable params: 196\n",
            "_________________________________________________________________\n"
          ],
          "name": "stdout"
        }
      ]
    },
    {
      "cell_type": "markdown",
      "metadata": {
        "id": "G7AUNI9QHnKE",
        "colab_type": "text"
      },
      "source": [
        "###Compiling the model\n"
      ]
    },
    {
      "cell_type": "code",
      "metadata": {
        "id": "Zp6SuGrL9M3h",
        "colab_type": "code",
        "colab": {}
      },
      "source": [
        "model.compile(loss='categorical_crossentropy',\n",
        "            optimizer='adam',\n",
        "            metrics=['accuracy'])"
      ],
      "execution_count": 0,
      "outputs": []
    },
    {
      "cell_type": "markdown",
      "metadata": {
        "id": "iNhc--VrIgNg",
        "colab_type": "text"
      },
      "source": [
        "###Training the model\n",
        "\n",
        "### \\*Observation while comparing Second and Third code:\n",
        "As we added drop-outs, the overfitting issue has been eliminated. We can clearly see that the Training and Validation accuracy gap is reduced drastically now.\n",
        "\n",
        "As a result the accuracy has also increased and we were able to reach 99.40% accuracy a couple of times.\n",
        "\n",
        "I also tried with 128 batch size, but the model seems to ber performing better at 64."
      ]
    },
    {
      "cell_type": "code",
      "metadata": {
        "id": "4xWoKhPY9Of5",
        "colab_type": "code",
        "outputId": "725f47f4-05fb-4e0b-8d88-5daaf3fb1364",
        "colab": {
          "base_uri": "https://localhost:8080/",
          "height": 1856
        }
      },
      "source": [
        "model.fit(X_train, Y_train, batch_size=64, nb_epoch=50, verbose=1, validation_data=(X_test,Y_test))"
      ],
      "execution_count": 0,
      "outputs": [
        {
          "output_type": "stream",
          "text": [
            "WARNING:tensorflow:From /usr/local/lib/python3.6/dist-packages/tensorflow/python/ops/math_ops.py:3066: to_int32 (from tensorflow.python.ops.math_ops) is deprecated and will be removed in a future version.\n",
            "Instructions for updating:\n",
            "Use tf.cast instead.\n"
          ],
          "name": "stdout"
        },
        {
          "output_type": "stream",
          "text": [
            "/usr/local/lib/python3.6/dist-packages/ipykernel_launcher.py:1: UserWarning: The `nb_epoch` argument in `fit` has been renamed `epochs`.\n",
            "  \"\"\"Entry point for launching an IPython kernel.\n"
          ],
          "name": "stderr"
        },
        {
          "output_type": "stream",
          "text": [
            "Train on 60000 samples, validate on 10000 samples\n",
            "Epoch 1/50\n",
            "60000/60000 [==============================] - 17s 287us/step - loss: 0.2653 - acc: 0.9159 - val_loss: 0.0758 - val_acc: 0.9757\n",
            "Epoch 2/50\n",
            "60000/60000 [==============================] - 13s 217us/step - loss: 0.0727 - acc: 0.9772 - val_loss: 0.0468 - val_acc: 0.9845\n",
            "Epoch 3/50\n",
            "60000/60000 [==============================] - 12s 196us/step - loss: 0.0577 - acc: 0.9823 - val_loss: 0.0362 - val_acc: 0.9883\n",
            "Epoch 4/50\n",
            "60000/60000 [==============================] - 12s 195us/step - loss: 0.0504 - acc: 0.9842 - val_loss: 0.0428 - val_acc: 0.9863\n",
            "Epoch 5/50\n",
            "60000/60000 [==============================] - 12s 195us/step - loss: 0.0435 - acc: 0.9863 - val_loss: 0.0342 - val_acc: 0.9899\n",
            "Epoch 6/50\n",
            "60000/60000 [==============================] - 12s 196us/step - loss: 0.0400 - acc: 0.9873 - val_loss: 0.0352 - val_acc: 0.9891\n",
            "Epoch 7/50\n",
            "60000/60000 [==============================] - 13s 210us/step - loss: 0.0379 - acc: 0.9883 - val_loss: 0.0318 - val_acc: 0.9899\n",
            "Epoch 8/50\n",
            "60000/60000 [==============================] - 12s 199us/step - loss: 0.0349 - acc: 0.9897 - val_loss: 0.0288 - val_acc: 0.9912\n",
            "Epoch 9/50\n",
            "60000/60000 [==============================] - 12s 198us/step - loss: 0.0330 - acc: 0.9896 - val_loss: 0.0298 - val_acc: 0.9908\n",
            "Epoch 10/50\n",
            "60000/60000 [==============================] - 12s 197us/step - loss: 0.0308 - acc: 0.9905 - val_loss: 0.0268 - val_acc: 0.9914\n",
            "Epoch 11/50\n",
            "60000/60000 [==============================] - 12s 200us/step - loss: 0.0276 - acc: 0.9910 - val_loss: 0.0238 - val_acc: 0.9932\n",
            "Epoch 12/50\n",
            "60000/60000 [==============================] - 12s 199us/step - loss: 0.0278 - acc: 0.9908 - val_loss: 0.0329 - val_acc: 0.9902\n",
            "Epoch 13/50\n",
            "60000/60000 [==============================] - 12s 200us/step - loss: 0.0268 - acc: 0.9916 - val_loss: 0.0255 - val_acc: 0.9925\n",
            "Epoch 14/50\n",
            "60000/60000 [==============================] - 13s 220us/step - loss: 0.0271 - acc: 0.9913 - val_loss: 0.0249 - val_acc: 0.9931\n",
            "Epoch 15/50\n",
            "60000/60000 [==============================] - 12s 201us/step - loss: 0.0245 - acc: 0.9923 - val_loss: 0.0224 - val_acc: 0.9927\n",
            "Epoch 16/50\n",
            "60000/60000 [==============================] - 12s 197us/step - loss: 0.0235 - acc: 0.9920 - val_loss: 0.0270 - val_acc: 0.9921\n",
            "Epoch 17/50\n",
            "60000/60000 [==============================] - 12s 196us/step - loss: 0.0226 - acc: 0.9926 - val_loss: 0.0213 - val_acc: 0.9929\n",
            "Epoch 18/50\n",
            "60000/60000 [==============================] - 12s 199us/step - loss: 0.0232 - acc: 0.9924 - val_loss: 0.0260 - val_acc: 0.9923\n",
            "Epoch 19/50\n",
            "60000/60000 [==============================] - 12s 198us/step - loss: 0.0220 - acc: 0.9926 - val_loss: 0.0253 - val_acc: 0.9927\n",
            "Epoch 20/50\n",
            "60000/60000 [==============================] - 12s 203us/step - loss: 0.0199 - acc: 0.9936 - val_loss: 0.0232 - val_acc: 0.9927\n",
            "Epoch 21/50\n",
            "60000/60000 [==============================] - 12s 207us/step - loss: 0.0204 - acc: 0.9932 - val_loss: 0.0257 - val_acc: 0.9927\n",
            "Epoch 22/50\n",
            "60000/60000 [==============================] - 12s 197us/step - loss: 0.0194 - acc: 0.9932 - val_loss: 0.0229 - val_acc: 0.9936\n",
            "Epoch 23/50\n",
            "60000/60000 [==============================] - 12s 195us/step - loss: 0.0185 - acc: 0.9939 - val_loss: 0.0234 - val_acc: 0.9926\n",
            "Epoch 24/50\n",
            "60000/60000 [==============================] - 12s 196us/step - loss: 0.0185 - acc: 0.9939 - val_loss: 0.0316 - val_acc: 0.9913\n",
            "Epoch 25/50\n",
            "60000/60000 [==============================] - 12s 195us/step - loss: 0.0183 - acc: 0.9940 - val_loss: 0.0238 - val_acc: 0.9931\n",
            "Epoch 26/50\n",
            "60000/60000 [==============================] - 12s 195us/step - loss: 0.0180 - acc: 0.9940 - val_loss: 0.0246 - val_acc: 0.9924\n",
            "Epoch 27/50\n",
            "60000/60000 [==============================] - 13s 215us/step - loss: 0.0176 - acc: 0.9942 - val_loss: 0.0239 - val_acc: 0.9927\n",
            "Epoch 28/50\n",
            "60000/60000 [==============================] - 13s 211us/step - loss: 0.0179 - acc: 0.9937 - val_loss: 0.0230 - val_acc: 0.9933\n",
            "Epoch 29/50\n",
            "60000/60000 [==============================] - 12s 195us/step - loss: 0.0175 - acc: 0.9941 - val_loss: 0.0257 - val_acc: 0.9922\n",
            "Epoch 30/50\n",
            "60000/60000 [==============================] - 12s 195us/step - loss: 0.0156 - acc: 0.9951 - val_loss: 0.0233 - val_acc: 0.9934\n",
            "Epoch 31/50\n",
            "60000/60000 [==============================] - 12s 196us/step - loss: 0.0163 - acc: 0.9943 - val_loss: 0.0222 - val_acc: 0.9938\n",
            "Epoch 32/50\n",
            "60000/60000 [==============================] - 12s 196us/step - loss: 0.0164 - acc: 0.9943 - val_loss: 0.0279 - val_acc: 0.9924\n",
            "Epoch 33/50\n",
            "60000/60000 [==============================] - 12s 195us/step - loss: 0.0147 - acc: 0.9949 - val_loss: 0.0234 - val_acc: 0.9938\n",
            "Epoch 34/50\n",
            "60000/60000 [==============================] - 13s 215us/step - loss: 0.0154 - acc: 0.9947 - val_loss: 0.0238 - val_acc: 0.9940\n",
            "Epoch 35/50\n",
            "60000/60000 [==============================] - 12s 195us/step - loss: 0.0156 - acc: 0.9944 - val_loss: 0.0259 - val_acc: 0.9927\n",
            "Epoch 36/50\n",
            "60000/60000 [==============================] - 12s 198us/step - loss: 0.0153 - acc: 0.9950 - val_loss: 0.0220 - val_acc: 0.9939\n",
            "Epoch 37/50\n",
            "60000/60000 [==============================] - 12s 197us/step - loss: 0.0150 - acc: 0.9950 - val_loss: 0.0218 - val_acc: 0.9933\n",
            "Epoch 38/50\n",
            "60000/60000 [==============================] - 12s 196us/step - loss: 0.0135 - acc: 0.9956 - val_loss: 0.0235 - val_acc: 0.9931\n",
            "Epoch 39/50\n",
            "60000/60000 [==============================] - 12s 207us/step - loss: 0.0141 - acc: 0.9951 - val_loss: 0.0250 - val_acc: 0.9927\n",
            "Epoch 40/50\n",
            "60000/60000 [==============================] - 12s 200us/step - loss: 0.0144 - acc: 0.9949 - val_loss: 0.0293 - val_acc: 0.9920\n",
            "Epoch 41/50\n",
            "60000/60000 [==============================] - 13s 210us/step - loss: 0.0138 - acc: 0.9951 - val_loss: 0.0212 - val_acc: 0.9939\n",
            "Epoch 42/50\n",
            "60000/60000 [==============================] - 12s 196us/step - loss: 0.0130 - acc: 0.9956 - val_loss: 0.0237 - val_acc: 0.9932\n",
            "Epoch 43/50\n",
            "60000/60000 [==============================] - 12s 196us/step - loss: 0.0127 - acc: 0.9956 - val_loss: 0.0244 - val_acc: 0.9936\n",
            "Epoch 44/50\n",
            "60000/60000 [==============================] - 12s 196us/step - loss: 0.0140 - acc: 0.9952 - val_loss: 0.0242 - val_acc: 0.9929\n",
            "Epoch 45/50\n",
            "60000/60000 [==============================] - 12s 197us/step - loss: 0.0126 - acc: 0.9957 - val_loss: 0.0237 - val_acc: 0.9932\n",
            "Epoch 46/50\n",
            "60000/60000 [==============================] - 12s 197us/step - loss: 0.0126 - acc: 0.9958 - val_loss: 0.0238 - val_acc: 0.9940\n",
            "Epoch 47/50\n",
            "60000/60000 [==============================] - 12s 206us/step - loss: 0.0113 - acc: 0.9961 - val_loss: 0.0242 - val_acc: 0.9942\n",
            "Epoch 48/50\n",
            "60000/60000 [==============================] - 12s 204us/step - loss: 0.0122 - acc: 0.9956 - val_loss: 0.0230 - val_acc: 0.9938\n",
            "Epoch 49/50\n",
            "60000/60000 [==============================] - 12s 196us/step - loss: 0.0120 - acc: 0.9959 - val_loss: 0.0250 - val_acc: 0.9933\n",
            "Epoch 50/50\n",
            "60000/60000 [==============================] - 12s 196us/step - loss: 0.0123 - acc: 0.9958 - val_loss: 0.0246 - val_acc: 0.9935\n"
          ],
          "name": "stdout"
        },
        {
          "output_type": "execute_result",
          "data": {
            "text/plain": [
              "<keras.callbacks.History at 0x7f870fa4def0>"
            ]
          },
          "metadata": {
            "tags": []
          },
          "execution_count": 13
        }
      ]
    },
    {
      "cell_type": "code",
      "metadata": {
        "id": "AtsH-lLk-eLb",
        "colab_type": "code",
        "colab": {}
      },
      "source": [
        "score = model.evaluate(X_test, Y_test, verbose=0)"
      ],
      "execution_count": 0,
      "outputs": []
    },
    {
      "cell_type": "code",
      "metadata": {
        "id": "mkX8JMv79q9r",
        "colab_type": "code",
        "outputId": "da848b22-8199-46b5-f583-4c08b9feb463",
        "colab": {
          "base_uri": "https://localhost:8080/",
          "height": 34
        }
      },
      "source": [
        "print(score)"
      ],
      "execution_count": 0,
      "outputs": [
        {
          "output_type": "stream",
          "text": [
            "[0.02455681711617799, 0.9935]\n"
          ],
          "name": "stdout"
        }
      ]
    },
    {
      "cell_type": "code",
      "metadata": {
        "id": "OCWoJkwE9suh",
        "colab_type": "code",
        "colab": {}
      },
      "source": [
        "y_pred = model.predict(X_test)"
      ],
      "execution_count": 0,
      "outputs": []
    },
    {
      "cell_type": "code",
      "metadata": {
        "id": "Ym7iCFBm9uBs",
        "colab_type": "code",
        "outputId": "e01b9d28-9470-4fd1-af9d-7381f5d1ccbe",
        "colab": {
          "base_uri": "https://localhost:8080/",
          "height": 493
        }
      },
      "source": [
        "print(y_pred[:9])\n",
        "print(y_test[:9])"
      ],
      "execution_count": 0,
      "outputs": [
        {
          "output_type": "stream",
          "text": [
            "[[9.58767499e-16 3.55346416e-12 2.95469693e-09 1.48231916e-08\n",
            "  2.53933913e-15 3.25578898e-16 4.84639340e-24 1.00000000e+00\n",
            "  2.62300629e-15 7.23654053e-11]\n",
            " [3.40151161e-08 2.75494330e-08 9.99999881e-01 2.83804257e-13\n",
            "  2.22134498e-11 2.23772954e-15 3.27989524e-10 1.38170843e-14\n",
            "  3.61899427e-10 5.19124233e-14]\n",
            " [7.45526141e-11 9.99999285e-01 2.09994036e-10 2.73984696e-10\n",
            "  3.40499696e-07 9.49365830e-09 5.81002491e-09 3.96986536e-07\n",
            "  1.38244394e-09 2.36769160e-10]\n",
            " [9.99995708e-01 4.20373399e-16 6.25397845e-10 6.94586264e-11\n",
            "  7.57645493e-14 1.19458399e-09 3.65761184e-06 8.73591310e-10\n",
            "  3.17945847e-08 5.53750851e-07]\n",
            " [2.70073091e-12 2.00295730e-14 2.76903088e-12 9.76719727e-16\n",
            "  9.99988794e-01 3.09058267e-14 7.86868834e-11 4.77836624e-11\n",
            "  1.71104619e-09 1.11740401e-05]\n",
            " [1.61509933e-12 9.99994278e-01 1.16556792e-10 3.88224405e-14\n",
            "  1.85120882e-06 2.33065889e-12 1.99771744e-11 3.83588895e-06\n",
            "  5.17775302e-11 3.07900899e-10]\n",
            " [1.50485722e-20 1.10198213e-11 1.16924817e-10 4.21172395e-14\n",
            "  9.99990106e-01 2.83544212e-11 8.66608077e-17 3.00936970e-10\n",
            "  4.93206608e-06 4.95283302e-06]\n",
            " [8.17206025e-12 2.40197667e-10 1.78398751e-09 3.78676202e-10\n",
            "  8.46203766e-04 5.10913367e-10 2.82724826e-13 1.70848602e-09\n",
            "  6.06543580e-08 9.99153614e-01]\n",
            " [6.87274793e-10 4.24539431e-17 1.38256837e-11 1.31587144e-14\n",
            "  2.15909539e-13 9.77264285e-01 4.86668851e-03 6.96376821e-14\n",
            "  1.78689472e-02 3.76031011e-08]]\n",
            "[7 2 1 0 4 1 4 9 5]\n"
          ],
          "name": "stdout"
        }
      ]
    },
    {
      "cell_type": "code",
      "metadata": {
        "id": "CT--y98_dr2T",
        "colab_type": "code",
        "colab": {}
      },
      "source": [
        "layer_dict = dict([(layer.name, layer) for layer in model.layers])"
      ],
      "execution_count": 0,
      "outputs": []
    },
    {
      "cell_type": "code",
      "metadata": {
        "id": "2GY4Upv4dsUR",
        "colab_type": "code",
        "outputId": "0a1b0db5-e70c-4729-a0a2-5185d9288aec",
        "colab": {
          "base_uri": "https://localhost:8080/",
          "height": 316
        }
      },
      "source": [
        "import numpy as np\n",
        "from matplotlib import pyplot as plt\n",
        "from keras import backend as K\n",
        "%matplotlib inline\n",
        "# util function to convert a tensor into a valid image\n",
        "def deprocess_image(x):\n",
        "    # normalize tensor: center on 0., ensure std is 0.1\n",
        "    x -= x.mean()\n",
        "    x /= (x.std() + 1e-5)\n",
        "    x *= 0.1\n",
        "\n",
        "    # clip to [0, 1]\n",
        "    x += 0.5\n",
        "    x = np.clip(x, 0, 1)\n",
        "\n",
        "    # convert to RGB array\n",
        "    x *= 255\n",
        "    #x = x.transpose((1, 2, 0))\n",
        "    x = np.clip(x, 0, 255).astype('uint8')\n",
        "    return x\n",
        "\n",
        "def vis_img_in_filter(img = np.array(X_train[2]).reshape((1, 28, 28, 1)).astype(np.float64), \n",
        "                      layer_name = 'conv2d_14'):\n",
        "    layer_output = layer_dict[layer_name].output\n",
        "    img_ascs = list()\n",
        "    for filter_index in range(layer_output.shape[3]):\n",
        "        # build a loss function that maximizes the activation\n",
        "        # of the nth filter of the layer considered\n",
        "        loss = K.mean(layer_output[:, :, :, filter_index])\n",
        "\n",
        "        # compute the gradient of the input picture wrt this loss\n",
        "        grads = K.gradients(loss, model.input)[0]\n",
        "\n",
        "        # normalization trick: we normalize the gradient\n",
        "        grads /= (K.sqrt(K.mean(K.square(grads))) + 1e-5)\n",
        "\n",
        "        # this function returns the loss and grads given the input picture\n",
        "        iterate = K.function([model.input], [loss, grads])\n",
        "\n",
        "        # step size for gradient ascent\n",
        "        step = 5.\n",
        "\n",
        "        img_asc = np.array(img)\n",
        "        # run gradient ascent for 20 steps\n",
        "        for i in range(20):\n",
        "            loss_value, grads_value = iterate([img_asc])\n",
        "            img_asc += grads_value * step\n",
        "\n",
        "        img_asc = img_asc[0]\n",
        "        img_ascs.append(deprocess_image(img_asc).reshape((28, 28)))\n",
        "        \n",
        "    if layer_output.shape[3] >= 35:\n",
        "        plot_x, plot_y = 6, 6\n",
        "    elif layer_output.shape[3] >= 23:\n",
        "        plot_x, plot_y = 4, 6\n",
        "    elif layer_output.shape[3] >= 11:\n",
        "        plot_x, plot_y = 2, 6\n",
        "    else:\n",
        "        plot_x, plot_y = 1, 2\n",
        "    fig, ax = plt.subplots(plot_x, plot_y, figsize = (12, 12))\n",
        "    ax[0, 0].imshow(img.reshape((28, 28)), cmap = 'gray')\n",
        "    ax[0, 0].set_title('Input image')\n",
        "    fig.suptitle('Input image and %s filters' % (layer_name,))\n",
        "    fig.tight_layout(pad = 0.3, rect = [0, 0, 0.9, 0.9])\n",
        "    for (x, y) in [(i, j) for i in range(plot_x) for j in range(plot_y)]:\n",
        "        if x == 0 and y == 0:\n",
        "            continue\n",
        "        ax[x, y].imshow(img_ascs[x * plot_y + y - 1], cmap = 'gray')\n",
        "        ax[x, y].set_title('filter %d' % (x * plot_y + y - 1))\n",
        "\n",
        "vis_img_in_filter()"
      ],
      "execution_count": 0,
      "outputs": [
        {
          "output_type": "error",
          "ename": "KeyError",
          "evalue": "ignored",
          "traceback": [
            "\u001b[0;31m---------------------------------------------------------------------------\u001b[0m",
            "\u001b[0;31mKeyError\u001b[0m                                  Traceback (most recent call last)",
            "\u001b[0;32m<ipython-input-19-19229f66b51a>\u001b[0m in \u001b[0;36m<module>\u001b[0;34m()\u001b[0m\n\u001b[1;32m     69\u001b[0m         \u001b[0max\u001b[0m\u001b[0;34m[\u001b[0m\u001b[0mx\u001b[0m\u001b[0;34m,\u001b[0m \u001b[0my\u001b[0m\u001b[0;34m]\u001b[0m\u001b[0;34m.\u001b[0m\u001b[0mset_title\u001b[0m\u001b[0;34m(\u001b[0m\u001b[0;34m'filter %d'\u001b[0m \u001b[0;34m%\u001b[0m \u001b[0;34m(\u001b[0m\u001b[0mx\u001b[0m \u001b[0;34m*\u001b[0m \u001b[0mplot_y\u001b[0m \u001b[0;34m+\u001b[0m \u001b[0my\u001b[0m \u001b[0;34m-\u001b[0m \u001b[0;36m1\u001b[0m\u001b[0;34m)\u001b[0m\u001b[0;34m)\u001b[0m\u001b[0;34m\u001b[0m\u001b[0;34m\u001b[0m\u001b[0m\n\u001b[1;32m     70\u001b[0m \u001b[0;34m\u001b[0m\u001b[0m\n\u001b[0;32m---> 71\u001b[0;31m \u001b[0mvis_img_in_filter\u001b[0m\u001b[0;34m(\u001b[0m\u001b[0;34m)\u001b[0m\u001b[0;34m\u001b[0m\u001b[0;34m\u001b[0m\u001b[0m\n\u001b[0m",
            "\u001b[0;32m<ipython-input-19-19229f66b51a>\u001b[0m in \u001b[0;36mvis_img_in_filter\u001b[0;34m(img, layer_name)\u001b[0m\n\u001b[1;32m     22\u001b[0m def vis_img_in_filter(img = np.array(X_train[2]).reshape((1, 28, 28, 1)).astype(np.float64), \n\u001b[1;32m     23\u001b[0m                       layer_name = 'conv2d_14'):\n\u001b[0;32m---> 24\u001b[0;31m     \u001b[0mlayer_output\u001b[0m \u001b[0;34m=\u001b[0m \u001b[0mlayer_dict\u001b[0m\u001b[0;34m[\u001b[0m\u001b[0mlayer_name\u001b[0m\u001b[0;34m]\u001b[0m\u001b[0;34m.\u001b[0m\u001b[0moutput\u001b[0m\u001b[0;34m\u001b[0m\u001b[0;34m\u001b[0m\u001b[0m\n\u001b[0m\u001b[1;32m     25\u001b[0m     \u001b[0mimg_ascs\u001b[0m \u001b[0;34m=\u001b[0m \u001b[0mlist\u001b[0m\u001b[0;34m(\u001b[0m\u001b[0;34m)\u001b[0m\u001b[0;34m\u001b[0m\u001b[0;34m\u001b[0m\u001b[0m\n\u001b[1;32m     26\u001b[0m     \u001b[0;32mfor\u001b[0m \u001b[0mfilter_index\u001b[0m \u001b[0;32min\u001b[0m \u001b[0mrange\u001b[0m\u001b[0;34m(\u001b[0m\u001b[0mlayer_output\u001b[0m\u001b[0;34m.\u001b[0m\u001b[0mshape\u001b[0m\u001b[0;34m[\u001b[0m\u001b[0;36m3\u001b[0m\u001b[0;34m]\u001b[0m\u001b[0;34m)\u001b[0m\u001b[0;34m:\u001b[0m\u001b[0;34m\u001b[0m\u001b[0;34m\u001b[0m\u001b[0m\n",
            "\u001b[0;31mKeyError\u001b[0m: 'conv2d_14'"
          ]
        }
      ]
    },
    {
      "cell_type": "code",
      "metadata": {
        "id": "9tvptcn8dxvp",
        "colab_type": "code",
        "colab": {}
      },
      "source": [
        ""
      ],
      "execution_count": 0,
      "outputs": []
    }
  ]
}
